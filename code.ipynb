{
  "nbformat": 4,
  "nbformat_minor": 0,
  "metadata": {
    "colab": {
      "name": "final_project.ipynb",
      "provenance": [],
      "collapsed_sections": []
    },
    "kernelspec": {
      "name": "python3",
      "display_name": "Python 3"
    },
    "language_info": {
      "name": "python"
    }
  },
  "cells": [
    {
      "cell_type": "code",
      "execution_count": 169,
      "metadata": {
        "id": "epH14bV9glNX"
      },
      "outputs": [],
      "source": [
        "import numpy as np\n",
        "import matplotlib.pyplot as plt\n",
        "from scipy.stats import ortho_group\n",
        "from sklearn.datasets import make_sparse_coded_signal\n",
        "from scipy.linalg import polar\n",
        "from tensorflow import keras\n",
        "import pandas as pd\n",
        "from scipy.stats import bernoulli\n",
        "from scipy.sparse import csr_matrix\n",
        "from sklearn.decomposition import SparseCoder\n",
        "import matplotlib.pyplot as plt\n",
        "from scipy.optimize import linprog\n",
        "from scipy.optimize import minimize, rosen, rosen_der\n",
        "from scipy.sparse import random\n",
        "from scipy.linalg import qr\n",
        "from keras.datasets import mnist"
      ]
    },
    {
      "cell_type": "markdown",
      "source": [
        "Gradient Estimation Function"
      ],
      "metadata": {
        "id": "XyRuDP8TRKv7"
      }
    },
    {
      "cell_type": "code",
      "source": [
        "def grad_f(y,D):\n",
        "  y = y.reshape((y.size,1))\n",
        "  dd = np.multiply(np.absolute(np.dot(D.T, y)),np.dot(D.T,y))\n",
        "  return -np.dot(y, dd.T)"
      ],
      "metadata": {
        "id": "A2wOdq6y7Kcs"
      },
      "execution_count": 170,
      "outputs": []
    },
    {
      "cell_type": "markdown",
      "source": [
        "Nonconvex Stochastic Frank Wolfe Algorithm"
      ],
      "metadata": {
        "id": "1w4PrstyRPAH"
      }
    },
    {
      "cell_type": "code",
      "source": [
        "def noncvx_swf(y, D_0, T):\n",
        "  G = 0 #initialize the gradient approximation variable\n",
        "  D = []\n",
        "  D.append(D_0) #add the initial D_0\n",
        "  t = 1 #initizalize iteration count\n",
        "\n",
        "  while t<=T: # give maximum number of iteration \n",
        "    p = 4*(np.power((t+1),(-1/2)))\n",
        "    v = 2*(np.power((t+2),(-3/4)))\n",
        "\n",
        "    #Gradient Approximation\n",
        "    sum_grad = 0\n",
        "\n",
        "    M = y[t-1].shape[1]\n",
        "    for j in range(M):\n",
        "      sum_grad += grad_f(y[t-1][:,j], D[t-1])\n",
        "\n",
        "    G = ((1-p) * G) + ((p/M) * sum_grad)\n",
        "\n",
        "    #LMO\n",
        "    U, sigma, V_T = np.linalg.svd(-G)\n",
        "    S = np.dot(U,V_T)\n",
        "\n",
        "    #Variable Update\n",
        "    D_upd = (1-v)*D[t-1] + v*S\n",
        "    D_new = polar(D_upd)[0] #polar decomposition returns u and p\n",
        "    D.append(D_new)\n",
        "\n",
        "    t += 1 # increase iteration count\n",
        "  return D"
      ],
      "metadata": {
        "id": "U-lO_17X7H3i"
      },
      "execution_count": 171,
      "outputs": []
    },
    {
      "cell_type": "markdown",
      "source": [
        "Stochastic Frank Wolfe Algorithm"
      ],
      "metadata": {
        "id": "V53HiQn8RTBD"
      }
    },
    {
      "cell_type": "code",
      "source": [
        "def swf(y, D_0, T):\n",
        "  D = []\n",
        "  D.append(D_0)\n",
        "  d = 0\n",
        "  t = 1\n",
        "  N = y[0].shape[0]\n",
        "  v = ortho_group.rvs(dim = N)\n",
        "  while t <= T: #give maximum number of iteration\n",
        "\n",
        "    stepsize1 = 4*(np.power((t+1),(-1/2)))\n",
        "    stepsize2 = 2*(np.power((t+3),(-3/4)))\n",
        "\n",
        "    #Gradient Approximation\n",
        "    sum_grad = 0\n",
        "    M = y[t-1].shape[1]\n",
        "    for j in range(M): \n",
        "      sum_grad += grad_f(y[t-1][:,j], D[t-1])\n",
        "\n",
        "    d = (1-stepsize1)*d + stepsize1*sum_grad\n",
        "\n",
        "    #LMO\n",
        "    U, sigma, V_T = np.linalg.svd(-d)\n",
        "    v = np.dot(U,V_T)\n",
        "    \n",
        "    #Variable Update\n",
        "    D.append((1-stepsize2)*D[t-1] + stepsize2*v)\n",
        "    \n",
        "    t += 1\n",
        "  return D"
      ],
      "metadata": {
        "id": "xFkRIB-NKvz8"
      },
      "execution_count": 172,
      "outputs": []
    },
    {
      "cell_type": "markdown",
      "source": [
        "Function to calculate p^th power of the lp norm"
      ],
      "metadata": {
        "id": "ywH6CRnkRWfu"
      }
    },
    {
      "cell_type": "code",
      "source": [
        "def lp_4(D):\n",
        "  sum =0\n",
        "  for row in D:\n",
        "    for col in row:\n",
        "      sum += col**4\n",
        "  return sum"
      ],
      "metadata": {
        "id": "E5MZMhKhOW5p"
      },
      "execution_count": 173,
      "outputs": []
    },
    {
      "cell_type": "markdown",
      "source": [
        "# **Experience on the Senthetic Data Set**"
      ],
      "metadata": {
        "id": "mG4t8g41RhPP"
      }
    },
    {
      "cell_type": "markdown",
      "source": [
        "Data Generation Function"
      ],
      "metadata": {
        "id": "ghEi3GxyRtvg"
      }
    },
    {
      "cell_type": "code",
      "source": [
        "def generate_data(N=10, M=10, theta=0.3):\n",
        "  y_all = []\n",
        "  D_true_all = []\n",
        "  x_all = []\n",
        "  L = 100\n",
        "  mu, sigma = 0, 0.1\n",
        "  T = 3000\n",
        "\n",
        "  for i in range(L):\n",
        "    y_t_all = []\n",
        "    H = np.random.rand(N,N)\n",
        "    Q, R = qr(H)\n",
        "    D_true = Q[:,0:N]\n",
        "    \n",
        "    for t in range(T):\n",
        "      B = np.random.rand(N,M)\n",
        "      B[B>theta] = 0\n",
        "      B[B>0] = 1\n",
        "      G = np.random.randn(N,M)\n",
        "      x = np.multiply(B,G)\n",
        "      y = np.dot(D_true,x)\n",
        "\n",
        "      y_t_all.append(y)\n",
        "\n",
        "    D_true_all.append(D_true)\n",
        "    x_all.append(x)\n",
        "    y_all.append(y_t_all)\n",
        "\n",
        "  return D_true_all, y_all"
      ],
      "metadata": {
        "id": "WhwhEOw3RGG1"
      },
      "execution_count": null,
      "outputs": []
    },
    {
      "cell_type": "markdown",
      "source": [
        "Function for L Monte Carlo Trial which returns 3000 Dictionary for each algorithm"
      ],
      "metadata": {
        "id": "dVMb8W9HSFai"
      }
    },
    {
      "cell_type": "code",
      "source": [
        "def synthetic_montecarlo(y, N = 10,B = 10):\n",
        "  T = 3*(10**3)\n",
        "  D_nonconvex = []\n",
        "  D_swf = []\n",
        "  L = 100\n",
        "  H = np.random.randn(N, N)\n",
        "  D_0, R = qr(H)\n",
        "  for i in range(L): \n",
        "    D1 = noncvx_swf(y[i], D_0, T)\n",
        "    D_nonconvex.append(D1)\n",
        "\n",
        "    D2 = swf(y[i],D_0, T)\n",
        "    D_swf.append(D2)\n",
        "\n",
        "  return D_nonconvex, D_swf"
      ],
      "metadata": {
        "id": "xdFQkHdIR1nb"
      },
      "execution_count": null,
      "outputs": []
    },
    {
      "cell_type": "markdown",
      "source": [
        "Error Calculation Function"
      ],
      "metadata": {
        "id": "NIkQLRQTTh8s"
      }
    },
    {
      "cell_type": "code",
      "source": [
        "def synthetic_error(D, D_true, N = 10):\n",
        "  T = 3*(10**3)\n",
        "  L = 100\n",
        "  error = []\n",
        "  for t in range(T):\n",
        "    sum = 0\n",
        "    for l in range(L):\n",
        "      D_mult = np.dot((D[l][t]).T, D_true[l])\n",
        "      sum += np.absolute((1-lp_4(D_mult)/N))\n",
        "    error.append(sum/L)\n",
        "  return error"
      ],
      "metadata": {
        "id": "R-P-c4t2Tbl2"
      },
      "execution_count": null,
      "outputs": []
    },
    {
      "cell_type": "markdown",
      "source": [
        "Plotting Graphs"
      ],
      "metadata": {
        "id": "-MtnZqNKUghc"
      }
    },
    {
      "cell_type": "code",
      "source": [
        "def plot_graphs(error_noncvx,error_swf,N = 10,B = 10,theta= 0.3):\n",
        "  graph_x = np.array(range(0,3000))/1000\n",
        "  a = [pow(10, -i) for i in range(4)]\n",
        "  fig = plt.figure()\n",
        "  ax = fig.add_subplot(1, 1, 1)\n",
        "  ax.set_yscale('log')\n",
        "  plt.xlabel('Time Index t') \n",
        "  plt.ylabel('Eror_t') \n",
        "  ax.plot(graph_x, error_noncvx, color = 'r')\n",
        "  ax.plot(graph_x, error_swf, color='g',)\n",
        "  ax.legend([\"noncvx_swf: N = {0:.1f}, B = {1:.1f}, θ = {2:.1f}\".format(N,B,theta), \n",
        "              \"swf: N = {0:.1f}, B = {1:.1f}, θ = {2:.1f}\".format(N,B,theta)])"
      ],
      "metadata": {
        "id": "ufyz22niUf8L"
      },
      "execution_count": null,
      "outputs": []
    },
    {
      "cell_type": "markdown",
      "source": [
        "Now let's imply our algorithms by using different types of hyperparameters"
      ],
      "metadata": {
        "id": "DnUloeDnTpMs"
      }
    },
    {
      "cell_type": "code",
      "source": [
        "N = 10"
      ],
      "metadata": {
        "id": "-5HgK7TuXMHp"
      },
      "execution_count": null,
      "outputs": []
    },
    {
      "cell_type": "code",
      "source": [
        "D_true_all, y = generate_data(N = 10) # Data generation\n",
        "\n",
        "D_syn_noncvx, D_syn_swf = synthetic_montecarlo(y, N = 10) \n",
        "  \n",
        "error_noncvx = synthetic_error(D_syn_noncvx, D_true_all, N = 10) #error calculation\n",
        "error_swf = synthetic_error(D_syn_swf, D_true_all, N=10) #error calculation"
      ],
      "metadata": {
        "id": "RLkGmzmZTmyb"
      },
      "execution_count": null,
      "outputs": []
    },
    {
      "cell_type": "code",
      "source": [
        "plot_graphs(error_noncvx,error_swf,N = n)"
      ],
      "metadata": {
        "colab": {
          "base_uri": "https://localhost:8080/",
          "height": 279
        },
        "id": "ke4oM9nrYa91",
        "outputId": "1b55ab46-c02e-4438-dc08-b35b16dc25eb"
      },
      "execution_count": null,
      "outputs": [
        {
          "output_type": "display_data",
          "data": {
            "text/plain": [
              "<Figure size 432x288 with 1 Axes>"
            ],
            "image/png": "[encoded data removed]"
          },
          "metadata": {
            "needs_background": "light"
          }
        }
      ]
    },
    {
      "cell_type": "code",
      "source": [
        "B = [1,10]"
      ],
      "metadata": {
        "id": "IuLbErKVVSql"
      },
      "execution_count": null,
      "outputs": []
    },
    {
      "cell_type": "code",
      "source": [
        "for b in B:\n",
        "  D_true_all, y = generate_data(M=b) # Data generation\n",
        "\n",
        "  D_syn_noncvx,D_syn_swf = synthetic_montecarlo(y, B = b) #nonconvex_sfw\n",
        "  error_noncvx = synthetic_error(D_syn_noncvx, D_true_all) #error calculation\n",
        "  error_swf = synthetic_error(D_syn_swf, D_true_all) #error calculation\n",
        "\n",
        "  plot_graphs(error_noncvx,error_swf,B = b) #plot both errors"
      ],
      "metadata": {
        "colab": {
          "base_uri": "https://localhost:8080/",
          "height": 541
        },
        "id": "QkftErywVRex",
        "outputId": "a92dc6ad-a650-468b-8a14-88b70712f62f"
      },
      "execution_count": null,
      "outputs": [
        {
          "output_type": "display_data",
          "data": {
            "text/plain": [
              "<Figure size 432x288 with 1 Axes>"
            ],
            "image/png": "[encoded data removed]"
          },
          "metadata": {
            "needs_background": "light"
          }
        },
        {
          "output_type": "display_data",
          "data": {
            "text/plain": [
              "<Figure size 432x288 with 1 Axes>"
            ],
            "image/png": "[encoded data removed]"
          },
          "metadata": {
            "needs_background": "light"
          }
        }
      ]
    },
    {
      "cell_type": "code",
      "source": [
        "theta = [0.3, 0.5]"
      ],
      "metadata": {
        "id": "EqyFtI1AVebt"
      },
      "execution_count": null,
      "outputs": []
    },
    {
      "cell_type": "code",
      "source": [
        "for t in theta:\n",
        "  D_true_all, y = generate_data(theta = t) # Data generation\n",
        "\n",
        "  D_syn_noncvx, D_syn_swf = synthetic_montecarlo(y) #nonconvex_sfw\n",
        "  error_noncvx = synthetic_error(D_syn_noncvx, D_true_all) #error calculation\n",
        "  error_swf = synthetic_error(D_syn_swf, D_true_all) #error calculation\n",
        "\n",
        "  plot_graphs(error_noncvx,error_swf,theta = t) #plot both errors"
      ],
      "metadata": {
        "colab": {
          "base_uri": "https://localhost:8080/",
          "height": 541
        },
        "id": "DCuqG0FgVduy",
        "outputId": "ac596a90-b562-4601-f3ba-66e383ae5567"
      },
      "execution_count": null,
      "outputs": [
        {
          "output_type": "display_data",
          "data": {
            "text/plain": [
              "<Figure size 432x288 with 1 Axes>"
            ],
            "image/png": "[encoded data removed]"
          },
          "metadata": {
            "needs_background": "light"
          }
        },
        {
          "output_type": "display_data",
          "data": {
            "text/plain": [
              "<Figure size 432x288 with 1 Axes>"
            ],
            "image/png": "[encoded data removed]"
          },
          "metadata": {
            "needs_background": "light"
          }
        }
      ]
    },
    {
      "cell_type": "markdown",
      "source": [
        "# **Experience on the Real World Datset**"
      ],
      "metadata": {
        "id": "1DimfprZXRKR"
      }
    },
    {
      "cell_type": "markdown",
      "source": [
        "We import MNIST dataset of handwritten digits which consists of 28x28 greyscale images"
      ],
      "metadata": {
        "id": "tTUNafv9aAWb"
      }
    },
    {
      "cell_type": "code",
      "source": [
        "(train_X, train_y), (test_X, test_y) = mnist.load_data()"
      ],
      "metadata": {
        "id": "jWVx_KKs0lYa"
      },
      "execution_count": 289,
      "outputs": []
    },
    {
      "cell_type": "markdown",
      "source": [
        "We take the first 1000 samples from it"
      ],
      "metadata": {
        "id": "GWlP7rV5a8Ya"
      }
    },
    {
      "cell_type": "code",
      "source": [
        "train_X = train_X[:1000]"
      ],
      "metadata": {
        "id": "MN1ywSIl3_F5"
      },
      "execution_count": 290,
      "outputs": []
    },
    {
      "cell_type": "markdown",
      "source": [
        "Let's reshape the 28x28 into 784"
      ],
      "metadata": {
        "id": "toNS270NbfJf"
      }
    },
    {
      "cell_type": "code",
      "source": [
        "imgs_f = train_X.reshape((784,1000));"
      ],
      "metadata": {
        "id": "r6kVw5iL33dA"
      },
      "execution_count": 291,
      "outputs": []
    },
    {
      "cell_type": "code",
      "source": [
        "img_mean = np.mean(imgs_f,1).reshape(784,1)\n",
        "img_var = np.var(imgs_f,0)[2]\n",
        "imgs_f = (imgs_f - img_mean)"
      ],
      "metadata": {
        "id": "E4Nu2x__5FVr"
      },
      "execution_count": 292,
      "outputs": []
    },
    {
      "cell_type": "code",
      "source": [
        "Y = imgs_f[:,0:1000]"
      ],
      "metadata": {
        "id": "taOHvD_P5wBa"
      },
      "execution_count": 293,
      "outputs": []
    },
    {
      "cell_type": "markdown",
      "source": [
        "Now we can create our minibatches which has length 10"
      ],
      "metadata": {
        "id": "3zUKQtb4b5VR"
      }
    },
    {
      "cell_type": "code",
      "source": [
        "Y_batched = []\n",
        "k = 0\n",
        "for i in range(1000):\n",
        "  Y_batched.append(Y[:,k:k+10])\n",
        "  k += 10"
      ],
      "metadata": {
        "id": "1h-yHylA7YSN"
      },
      "execution_count": 294,
      "outputs": []
    },
    {
      "cell_type": "markdown",
      "source": [
        "Function to calculate p^th power of lp norm of a vector"
      ],
      "metadata": {
        "id": "aej3UDICbFel"
      }
    },
    {
      "cell_type": "code",
      "source": [
        "def lp_2(y):\n",
        "  sum =0\n",
        "  for y_i in y:\n",
        "    sum += y_i**2\n",
        "  return sum"
      ],
      "metadata": {
        "id": "ENatx2wkXybA"
      },
      "execution_count": 295,
      "outputs": []
    },
    {
      "cell_type": "markdown",
      "source": [
        "Function to calculate D_true and sparse vector x"
      ],
      "metadata": {
        "id": "Umr3lpRgbQAe"
      }
    },
    {
      "cell_type": "code",
      "source": [
        "def sparse(D, y, n0):\n",
        "  a = np.dot(D.T, y)\n",
        "  l2_norms = [np.linalg.norm(ai) for ai in a]\n",
        "  l2_norms_copy = l2_norms\n",
        "  maximum_l2 = sorted(l2_norms)[:n0]\n",
        "  index_max = [l2_norms_copy.index(m) for m in maximum_l2]\n",
        "  for i in range(len(a)):\n",
        "    if i in index_max:\n",
        "      a[i] = 0\n",
        "  return a"
      ],
      "metadata": {
        "id": "xlbqlKYan-dK"
      },
      "execution_count": 296,
      "outputs": []
    },
    {
      "cell_type": "markdown",
      "source": [
        "Root Mean Square Error for each t"
      ],
      "metadata": {
        "id": "jKBVrvQFs7KV"
      }
    },
    {
      "cell_type": "code",
      "source": [
        "def error_real(D,y_mini,T_i, mu = 28):\n",
        "  rmse = []\n",
        "  for t in range(T_i):\n",
        "    sum_up = 0\n",
        "    sum_down = 0\n",
        "    M = y_mini[t].shape[1]\n",
        "    for j in range(M):\n",
        "      x_j = sparse(D[t], y_mini[t][:,j], mu)\n",
        "      y_bar_j = np.dot(D[t],x_j)\n",
        "      sum_up += (lp_2(y_bar_j - y_mini[t][:,j]))\n",
        "      sum_down += (lp_2(y_mini[t][:,j]))\n",
        "  rmse = np.sqrt(sum_up/(sum_down*T_i))\n",
        "  return rmse*100"
      ],
      "metadata": {
        "id": "m6VWHiT_7TMv"
      },
      "execution_count": 297,
      "outputs": []
    },
    {
      "cell_type": "markdown",
      "source": [
        "Now we can try our algorithm on the real world dataset with different size of compression ratios"
      ],
      "metadata": {
        "id": "mFOISSitdiPY"
      }
    },
    {
      "cell_type": "code",
      "source": [
        "H = np.random.randn(784, 784)\n",
        "D_0, R = qr(H)\n",
        "D_real_nswf = noncvx_swf(Y_batched, D_0, 100)\n",
        "D_real_swf = swf(Y_batched, D_0, 100)"
      ],
      "metadata": {
        "id": "QMDKmAHI7_Nc"
      },
      "execution_count": 298,
      "outputs": []
    },
    {
      "cell_type": "markdown",
      "source": [
        "Let's try with different compression sizes"
      ],
      "metadata": {
        "id": "kaR2UjptfUen"
      }
    },
    {
      "cell_type": "code",
      "source": [
        "mu = [2, 7, 14, 28]"
      ],
      "metadata": {
        "id": "wQQyJwsBftU0"
      },
      "execution_count": 299,
      "outputs": []
    },
    {
      "cell_type": "code",
      "source": [
        "rmse_nonconvex = []\n",
        "rmse_swf = []\n",
        "for m in mu:\n",
        "  rmse_nonconvex.append(error_real(D_real_nswf,Y_batched, 100, m))\n",
        "  rmse_swf.append(error_real(D_real_swf,Y_batched, 100, m))"
      ],
      "metadata": {
        "id": "hFTdKU-K6OtT"
      },
      "execution_count": 300,
      "outputs": []
    },
    {
      "cell_type": "markdown",
      "source": [
        "We can see the achieved rmse values"
      ],
      "metadata": {
        "id": "d8gOwfxHgLkR"
      }
    },
    {
      "cell_type": "code",
      "source": [
        "np.multiply(rmse_nonconvex,100)"
      ],
      "metadata": {
        "colab": {
          "base_uri": "https://localhost:8080/"
        },
        "id": "e8_WblVRDC8f",
        "outputId": "3e198dfd-5b5d-44af-d55c-ddff674e3af3"
      },
      "execution_count": 301,
      "outputs": [
        {
          "output_type": "execute_result",
          "data": {
            "text/plain": [
              "array([0.19439973, 0.69037758, 1.78869138, 4.8277342 ])"
            ]
          },
          "metadata": {},
          "execution_count": 301
        }
      ]
    }
  ]
}